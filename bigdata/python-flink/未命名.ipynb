{
 "cells": [
  {
   "cell_type": "markdown",
   "id": "d59e8f02-a880-4f15-896d-bab564a9729b",
   "metadata": {},
   "source": [
    "# scala akka"
   ]
  },
  {
   "cell_type": "markdown",
   "id": "7e64c41b-0d71-4f48-89a3-6fa6c5acf0bc",
   "metadata": {},
   "source": [
    "![alt text](imgs/akka.png \"Title\")"
   ]
  },
  {
   "cell_type": "markdown",
   "id": "3b82bc29-bb6b-4dad-ad35-fea2a74e623b",
   "metadata": {},
   "source": [
    "1. ActorSystem 管理 actor 生命周期的组件，Actor负责通信组件\n",
    "2. 每个actor都有一个MailBox， 别的actor发送给它的消息首先存储在MailBox中，通过这种方式可以实现异步通信\n",
    "3. 每个actor 是单线程的处理方式，不断的从mailbox拉去消息执行处理，所以对于actor的消息处理，不适合调用会阻塞的处理方法\n",
    "4. actor可以改变自身状态，可以接受消息，可以发消息，可以生成新的actor\n",
    "5. 每个actorsystem 和actor 都在启动的时候会有name，如果从actorsystem获取一个actor可以通过地址定位\n",
    "6. 如果两个actor 要通信，必须先获取对方actor的actorref对象，然后通过改对象发送消息即可\n",
    "7. 通过teil发生异步消息，不接受响应，通过ask发消息得到future返回，通过异步回到返回处理结果。"
   ]
  },
  {
   "cell_type": "markdown",
   "id": "fe740886-75bd-4149-8706-dfdbad82ef5f",
   "metadata": {},
   "source": [
    "![alt text](imgs/flink_akka.png \"Title\")"
   ]
  },
  {
   "cell_type": "markdown",
   "id": "cdd1963c-3cb7-4c37-9c49-f63d51ff1a2c",
   "metadata": {},
   "source": [
    "1. RpcGatewag 路由，类似于hadoop通信协议protocol\n",
    "2. RpcServer RpcService(ActorSystem) 和 RpcEndpoint(Actor) 之间的粘合层 actorref 【大使】\n",
    "3. RpcEndpoint 业务逻辑载体，对应Actor的封装\n",
    "4. RpcService 对应ActorSystem的封装"
   ]
  },
  {
   "cell_type": "markdown",
   "id": "80d8fc78-91fe-46f9-9923-82a3b4c2c63e",
   "metadata": {},
   "source": [
    "![alt text](imgs/flink-jg.png \"Title\")"
   ]
  },
  {
   "cell_type": "code",
   "execution_count": null,
   "id": "f3baa342-a0e0-4ab7-af73-dd2926695f59",
   "metadata": {},
   "outputs": [],
   "source": []
  }
 ],
 "metadata": {
  "kernelspec": {
   "display_name": "Python 3 (ipykernel)",
   "language": "python",
   "name": "python3"
  },
  "language_info": {
   "codemirror_mode": {
    "name": "ipython",
    "version": 3
   },
   "file_extension": ".py",
   "mimetype": "text/x-python",
   "name": "python",
   "nbconvert_exporter": "python",
   "pygments_lexer": "ipython3",
   "version": "3.8.7"
  }
 },
 "nbformat": 4,
 "nbformat_minor": 5
}

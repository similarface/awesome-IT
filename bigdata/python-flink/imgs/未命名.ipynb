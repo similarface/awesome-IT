{
 "cells": [
  {
   "cell_type": "code",
   "execution_count": null,
   "id": "857ba3cd-cf1b-458f-b264-e6797b243d10",
   "metadata": {},
   "outputs": [],
   "source": []
  },
  {
   "cell_type": "code",
   "execution_count": null,
   "id": "28849311-93b1-4f17-aad3-e32b048fdb5f",
   "metadata": {},
   "outputs": [],
   "source": []
  },
  {
   "cell_type": "code",
   "execution_count": null,
   "id": "4efc150d-8470-4af7-a388-174afdd8254a",
   "metadata": {},
   "outputs": [],
   "source": []
  },
  {
   "cell_type": "code",
   "execution_count": 1,
   "id": "e6d9a6cd-9782-4288-bba5-3067f3770e14",
   "metadata": {},
   "outputs": [],
   "source": [
    "class News:\n",
    "    def __init__(self, title, image, pubDate, link):\n",
    "        self.title = title\n",
    "        self.image = image\n",
    "        self.pubDate = pubDate\n",
    "        self.link = link"
   ]
  },
  {
   "cell_type": "code",
   "execution_count": 2,
   "id": "8214ea52-a32a-459c-bcf9-a558585c2e45",
   "metadata": {},
   "outputs": [],
   "source": [
    "from urllib.request import urlopen, Request\n",
    "from xml.etree import ElementTree"
   ]
  },
  {
   "cell_type": "code",
   "execution_count": null,
   "id": "1f436b5b-52be-4988-ace7-9cee96c79ca2",
   "metadata": {},
   "outputs": [],
   "source": [
    "def get_news():\n",
    "    headers = {'User-Agent': 'Mozilla/5.0'}\n",
    "    url = 'https://news.yahoo.com/rss/all'\n",
    "    req = Request(url, headers=headers, method='GET')\n",
    "\n",
    "    with urlopen(req) as resp:\n",
    "        data = ElementTree.fromstring(resp.read().decode('utf-8'))\n",
    "        channel = data[0]\n",
    "\n",
    "        news_links = []\n",
    "        for child in channel:\n",
    "            if child.tag == 'item':\n",
    "                try:\n",
    "                    news_links.append(process_news_item(child))\n",
    "                except Exception as ex:\n",
    "                    print('Item invalid')\n",
    "\n",
    "    return news_links"
   ]
  },
  {
   "cell_type": "code",
   "execution_count": null,
   "id": "da1ec0a5-d3be-4178-860d-1ea572ac5db9",
   "metadata": {},
   "outputs": [],
   "source": [
    "def render_news_item(item):\n",
    "    headers = {'User-Agent': 'Mozilla/5.0'}\n",
    "    try:\n",
    "        with urlopen(Request(item.link, headers=headers, method='GET')) as resp:\n",
    "            html_fragment = (f'<a href=\"{item.link}\"><h3>               {item.title}</h3></a>'\n",
    "                            f'<img src=\"{item.image}\" width=\"50px\" height=\"50px\" />'\n",
    "                             f'<input type=\"hidden\" name=\"sec\" value=\"aaa\" />')\n",
    "\n",
    "            return html_fragment\n",
    "    except Exception as ex:\n",
    "        return \"\""
   ]
  },
  {
   "cell_type": "code",
   "execution_count": null,
   "id": "912572d3-ad7d-4786-8e3a-7d09e564919a",
   "metadata": {},
   "outputs": [],
   "source": [
    "from time import time\n",
    "start = time()\n",
    "articles_html = \"\"\n",
    "for item in news:\n",
    "    articles_html += render_news_item(item)\n",
    "\n",
    "print(f'Job finished for {len(news)} news sequentially in {time() - start} seconds')"
   ]
  },
  {
   "cell_type": "code",
   "execution_count": null,
   "id": "e853d5db-27bb-4738-9d4d-06c17debae57",
   "metadata": {},
   "outputs": [],
   "source": [
    "from threading import Thread\n",
    "class HtmlFragmenter(Thread):\n",
    "    def __init__(self, queue):\n",
    "        Thread.__init__(self)\n",
    "        self.queue = queue\n",
    "        self._return = None\n",
    "\n",
    "    def run(self):\n",
    "        while True:\n",
    "            news_item = self.queue.get()\n",
    "            self._return = render_news_item(news_item)\n",
    "            self.queue.task_done()\n",
    "\n",
    "    def join(self, *args):\n",
    "        Thread.join(self, *args)\n",
    "        return self._return"
   ]
  },
  {
   "cell_type": "code",
   "execution_count": null,
   "id": "40f545a8-4a95-40b7-aef4-746d465fcd97",
   "metadata": {},
   "outputs": [],
   "source": []
  }
 ],
 "metadata": {
  "kernelspec": {
   "display_name": "Python 3 (ipykernel)",
   "language": "python",
   "name": "python3"
  },
  "language_info": {
   "codemirror_mode": {
    "name": "ipython",
    "version": 3
   },
   "file_extension": ".py",
   "mimetype": "text/x-python",
   "name": "python",
   "nbconvert_exporter": "python",
   "pygments_lexer": "ipython3",
   "version": "3.8.7"
  }
 },
 "nbformat": 4,
 "nbformat_minor": 5
}

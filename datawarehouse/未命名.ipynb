{
 "cells": [
  {
   "cell_type": "markdown",
   "id": "6371509c-b74e-4cd4-80d4-ec86e1537abf",
   "metadata": {},
   "source": [
    "### ODS层\n",
    "> 操作型数据\n",
    "\n",
    "> Operational Data Store\n",
    "\n",
    "- 对于实时数仓来说，ods层一般是存储在kafka中的原始数据。所谓原始数据，主要有两个来源:\n",
    "\n",
    "  - 基于canal采集到kafka中的mysql表的binlog日志\n",
    "  - 基于flume/fluentd采集到kafka中的客户端访问日志\n",
    "  - PC网页访问日志\n",
    "  - H5端访问日志\n",
    "  - 小程序访问日志\n",
    "  - APP访问日志\n",
    "  - 后端网关服务日志\n",
    "那么，对于ODS层的数据，我们需要做哪些处理呢？通常来说，什么都不做，ods层一般会保留数据原样，方便定位与回溯数据。"
   ]
  },
  {
   "cell_type": "markdown",
   "id": "7c9a9356-c810-45c8-b677-ae945a1956d1",
   "metadata": {},
   "source": [
    "---\n",
    "### DWD\n",
    "> 数据仓库明细层数据\n",
    "\n",
    "> Data Warehouse Detail\n",
    "\n",
    "- 对ODS层数据进行清洗转化，以业务过程作为建模驱动，基于每个具体的业务过程特点，构建最细粒度的明细事实表。可以结合企业的数据使用特点，基于维度建模思想，将明细事实表的某些重要属性字段做适当冗余，也即宽表化处理，构建明细宽表。主要是对ODS层的数据做一定的清洗和主题汇总。\n",
    "\n",
    "- 以用户访问日志表为例，在dwd层一般会做的事情:\n",
    "\n",
    "    - 保留和ODS层数据一样的数据维度\n",
    "    - 包含PC、H5、小程序、APP各个来源的数据\n",
    "    - 对部分枚举类型的值进行翻译\n",
    "    - 剔除异常数据，保证数据质量\n",
    "一般在该层，还会做表之间的join、以及维表join冗余维度信息等。"
   ]
  },
  {
   "cell_type": "markdown",
   "id": "a2ec2add-639a-4bfd-ad8f-39218095a18f",
   "metadata": {},
   "source": [
    "---\n",
    "\n",
    "### DIM层设计\n",
    "- 首先应该将kafka中的维度表的信息同步到数据库中存储，维度表的设计应该考虑到维度的更新、查询数据的并发以及与业务库解耦等因素，一般会用HBase或Redis来作为实时数仓DIM层的存储。\n",
    "\n",
    "    - 对于维度变化缓慢且维度数据比较大的维度表，可以考虑用HBase存储，查询HBase时可以结合本地缓存 + 异步IO来实现。\n",
    "    - 对于维度变化较快且维表数据量相对较小的维度表，一般可以用Redis存储。"
   ]
  },
  {
   "cell_type": "markdown",
   "id": "531cc896-876e-4207-b81d-2912492ab310",
   "metadata": {},
   "source": [
    "### DWS\n",
    "> 数据仓库汇总层数据\n",
    "\n",
    "> Data Warehouse Summary\n",
    "\n",
    "- 基于指标需求，构建初步汇总事实表，一般是宽表。\n",
    "- 基于上层的应用和产品的指标需求，构建公共粒度的汇总指标表。\n",
    "- 以宽表化手段物理化模型，构建命名规范、口径一致的统计指标，为上层提供公共指标。"
   ]
  },
  {
   "cell_type": "markdown",
   "id": "3b4b7ef0-b123-448a-9d52-2024b71fbc1b",
   "metadata": {},
   "source": [
    "---\n",
    "### ADS\n",
    "> 面向应用的数据服务层\n",
    "\n",
    "> Application Data Service\n",
    "```text\n",
    "整合汇总成分析某一个主题域的服务数据，面向应用逻辑的数据加工。\n",
    "该层主要存放数据产品个性化的统计指标数据，这一层的数据直接对接数据的消费者，是产品、运营等角色可以直接感知理解的一层，大多数这一层的表都可以直接在BI上通过图表的形式直接透出。\n",
    "```"
   ]
  },
  {
   "cell_type": "code",
   "execution_count": null,
   "id": "d3b7f313-810c-429d-8f14-de74c50788e3",
   "metadata": {},
   "outputs": [],
   "source": []
  }
 ],
 "metadata": {
  "kernelspec": {
   "display_name": "Python 3 (ipykernel)",
   "language": "python",
   "name": "python3"
  },
  "language_info": {
   "codemirror_mode": {
    "name": "ipython",
    "version": 3
   },
   "file_extension": ".py",
   "mimetype": "text/x-python",
   "name": "python",
   "nbconvert_exporter": "python",
   "pygments_lexer": "ipython3",
   "version": "3.8.7"
  }
 },
 "nbformat": 4,
 "nbformat_minor": 5
}

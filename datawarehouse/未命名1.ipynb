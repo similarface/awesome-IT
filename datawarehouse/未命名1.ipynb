{
 "cells": [
  {
   "cell_type": "markdown",
   "id": "7302273a-975a-4b6a-9454-1496c522dae5",
   "metadata": {},
   "source": [
    "### 数据规范\n",
    "\n",
    "#### 词根\n",
    "\n",
    "- 词根的作用就是大家在对字段，表，指标等命名的时候作为查询使用，需要陆续完善.\n",
    "\n",
    "\n",
    "|中文名|英文名|评审时间|负责人\n",
    "|---|---|---|---|\n",
    "|数量|cnt|20220101|系统组|\n",
    "\n",
    "#### 词典\n",
    "- 词典比词根更近一步，大家在对字段命名的时候，首先可以参考词典，以及可以参考其字段类型，使各个开发对同一个中文的字段命名及类型全部一致\n",
    "\n",
    "\n",
    "|中文名|英文名|字段类型|评审时间\n",
    "|---|---|---|---|\n",
    "|订单id|order_id|string|20220101|\n"
   ]
  },
  {
   "cell_type": "markdown",
   "id": "b85cd7f7-c506-44e8-94a2-3ad29db9bfdf",
   "metadata": {},
   "source": []
  },
  {
   "cell_type": "code",
   "execution_count": null,
   "id": "7b70b995-1c71-48cf-a18a-045d10c6b6cf",
   "metadata": {},
   "outputs": [],
   "source": []
  }
 ],
 "metadata": {
  "kernelspec": {
   "display_name": "Python 3 (ipykernel)",
   "language": "python",
   "name": "python3"
  },
  "language_info": {
   "codemirror_mode": {
    "name": "ipython",
    "version": 3
   },
   "file_extension": ".py",
   "mimetype": "text/x-python",
   "name": "python",
   "nbconvert_exporter": "python",
   "pygments_lexer": "ipython3",
   "version": "3.8.7"
  }
 },
 "nbformat": 4,
 "nbformat_minor": 5
}

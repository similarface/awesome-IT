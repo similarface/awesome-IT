{
 "cells": [
  {
   "cell_type": "markdown",
   "id": "b8fcae38-6f5a-4693-a9fd-2f4e72f4fabd",
   "metadata": {},
   "source": [
    "# 什么是分布式锁\n",
    "\n",
    "分布式锁： 在分布式系统中，解决共享资源的串行话访问问题，\n",
    "解决了单机在分布式系统中失效的问题。"
   ]
  },
  {
   "cell_type": "markdown",
   "id": "196c4fee-6e24-42c6-8a4e-1ee1ebe69206",
   "metadata": {},
   "source": [
    "## 需求分析：\n",
    "功能需求\n",
    " - 提供获取锁/释放锁操作接口\n",
    " - 冗余部署的多个模块串行化访问临界资源\n",
    "\n",
    "业务需求\n",
    " - 锁的一致性需求\n",
    "\n",
    "性能需求\n",
    " - 服务并发量及响应延时"
   ]
  },
  {
   "cell_type": "code",
   "execution_count": 1,
   "id": "93f7fcb9-3b98-4169-a150-767060dde845",
   "metadata": {},
   "outputs": [],
   "source": [
    "## 分布式锁是什么\n",
    "- 没有操作系统层面的机制解决多机的串行化\n",
    "- 某个节点持有“锁”，无法阻止其他节点的运行\n",
    "- 业务约定好，使用共享存储"
   ]
  },
  {
   "cell_type": "markdown",
   "id": "27e1c041-d17a-433e-9c71-9b412c0cffc5",
   "metadata": {},
   "source": [
    "## 分布式锁业务模型\n",
    "- 获取锁： 向公共存储中写入某个值\n",
    "    - 成功： 要写入的值不存在\n",
    "    - 失败： 要写入的值存在\n",
    "- 释放锁： 删除获取锁时写入的值"
   ]
  },
  {
   "cell_type": "markdown",
   "id": "11a30d6b-a816-496d-8d2c-91d0bcf22224",
   "metadata": {},
   "source": [
    "![alt text](分布式锁业务模型.png \"Title\")"
   ]
  },
  {
   "cell_type": "code",
   "execution_count": null,
   "id": "7131314f-35af-43d2-9515-7a0c5164c48c",
   "metadata": {},
   "outputs": [],
   "source": [
    "## 分布式锁深入思考\n",
    "- 客户端\n",
    " - 逻辑控制\n",
    " - 确保锁正常释放\n",
    "\n",
    "- 存储\n",
    " - 数据模型\n",
    " - 持久化\n",
    " - 有效期"
   ]
  },
  {
   "cell_type": "markdown",
   "id": "1c243269-4a49-4440-967f-639b8d68c7b6",
   "metadata": {},
   "source": []
  },
  {
   "cell_type": "markdown",
   "id": "a2ec6773-704b-46f1-94e3-451855d87b8e",
   "metadata": {},
   "source": []
  },
  {
   "cell_type": "markdown",
   "id": "7fe567e3-046b-4cdf-ab95-c7f454c1c43a",
   "metadata": {},
   "source": [
    "### 客户端\n",
    "- 逻辑控制\n",
    "  - 业务正确使用\n",
    "- 确保锁正常释放\n",
    "  - 为锁设置有效期\n",
    "  - 有效期长短如何设置"
   ]
  },
  {
   "cell_type": "markdown",
   "id": "6f9f1110-c75c-4390-9684-e62a13537945",
   "metadata": {},
   "source": [
    "释放锁如何校验"
   ]
  },
  {
   "cell_type": "markdown",
   "id": "b34f196c-af17-46a9-9d42-3437d916c841",
   "metadata": {},
   "source": [
    "![alt text](2.png \"Title\")"
   ]
  },
  {
   "cell_type": "markdown",
   "id": "e01e1bdf-ab7d-42da-9a87-762875bd3fbc",
   "metadata": {},
   "source": []
  },
  {
   "cell_type": "code",
   "execution_count": null,
   "id": "7adf9693-1dfd-45ad-9c9b-8104256d5df6",
   "metadata": {},
   "outputs": [],
   "source": []
  },
  {
   "cell_type": "code",
   "execution_count": null,
   "id": "8ae1df53-207a-42b5-944a-22197f72abfd",
   "metadata": {},
   "outputs": [],
   "source": []
  },
  {
   "cell_type": "markdown",
   "id": "4dcd30ef-6506-4221-8a32-de15da78c56d",
   "metadata": {},
   "source": [
    "SET if Not eXistsSET if Not eXists"
   ]
  },
  {
   "cell_type": "markdown",
   "id": "c8b4ba30-e224-4d31-9d80-945edfa649c0",
   "metadata": {},
   "source": [
    "![alt text](分布式01.png \"Title\")"
   ]
  },
  {
   "cell_type": "markdown",
   "id": "33a2cb99-61c2-4f84-acd1-bceed01ea77d",
   "metadata": {},
   "source": [
    "1. 程序处理业务逻辑异常，没及时释放锁\n",
    "2. 进程挂了，没机会释放锁\n",
    "\n",
    "这个客户端就会一直占用这个锁，而其它客户端就「永远」拿不到这把锁了。"
   ]
  },
  {
   "cell_type": "markdown",
   "id": "c64d0e57-9039-410a-a08b-723b473a8d95",
   "metadata": {},
   "source": [
    "![alt text](分布式02.png \"Title\")"
   ]
  },
  {
   "cell_type": "markdown",
   "id": "d43c4d06-a4a5-4738-bfd3-5c58b815f751",
   "metadata": {},
   "source": []
  },
  {
   "cell_type": "markdown",
   "id": "145cbfc0-c7ca-42f0-a2a9-abeb7d7ff183",
   "metadata": {},
   "source": [
    "zookeeper\n",
    "redis\n",
    "etcd"
   ]
  },
  {
   "cell_type": "code",
   "execution_count": null,
   "id": "23e68928-45d4-4c74-a1f4-866e99291c3d",
   "metadata": {},
   "outputs": [],
   "source": []
  },
  {
   "cell_type": "code",
   "execution_count": null,
   "id": "9bf8afa7-c475-4d0d-b0f4-a2fb4f12e3a3",
   "metadata": {},
   "outputs": [],
   "source": []
  },
  {
   "cell_type": "markdown",
   "id": "79bb2682-0eaf-4fdb-9846-b9ee8cff827b",
   "metadata": {},
   "source": [
    "- Lock： 添加key，设置有效期 【加锁操作的原子性】\n",
    "- unLock: 删除Key\n",
    "- 有效期维护： 后台续租 【续租和释放锁安全性】"
   ]
  },
  {
   "cell_type": "markdown",
   "id": "fd29bebe-00b6-45f2-9dfc-54934f03b12e",
   "metadata": {},
   "source": [
    "![alt text](分布式03.png \"Title\")"
   ]
  },
  {
   "cell_type": "markdown",
   "id": "bd625e42-3310-4286-9f4e-047b34f59ea4",
   "metadata": {},
   "source": [
    "工作时序：\n",
    "- 竞争锁\n",
    "- 释放锁\n",
    "- 上报监控"
   ]
  },
  {
   "cell_type": "markdown",
   "id": "5d5cca9a-3a46-4a70-843e-591889102669",
   "metadata": {},
   "source": [
    "![alt text](分布式04.png \"Title\")"
   ]
  },
  {
   "cell_type": "markdown",
   "id": "f69225d6-b88c-4ca0-9393-90ddee2dd2a7",
   "metadata": {},
   "source": [
    "# 服务端？"
   ]
  },
  {
   "cell_type": "markdown",
   "id": "2283740b-8376-411c-a037-1e0405e407c6",
   "metadata": {},
   "source": [
    "<h1 style=\"color:red\">选择一个合适的存储</h1>"
   ]
  },
  {
   "cell_type": "markdown",
   "id": "3e1c389b-dd59-416f-afe8-1fcbc4357c50",
   "metadata": {},
   "source": [
    "![alt text](分布式05.png \"Title\")"
   ]
  },
  {
   "cell_type": "markdown",
   "id": "0f7fba4b-a76e-44a9-9f3c-b49c78c55451",
   "metadata": {},
   "source": [
    "<a href='https://www.ruanyifeng.com/blog/2018/07/cap.html'>CAP</a>\n",
    "\n",
    "- Consistency 数据一致性\n",
    "- Availability 服务可用性\n",
    "- Partition tolerance 分区容错\n"
   ]
  },
  {
   "cell_type": "markdown",
   "id": "c64a7d60-6cb9-465b-a5bb-cb3094ef91d0",
   "metadata": {},
   "source": [
    "![alt text](分布式06.png \"Title\")"
   ]
  },
  {
   "cell_type": "code",
   "execution_count": null,
   "id": "7753d58b-0aee-4b74-b04c-4432e8b1a307",
   "metadata": {},
   "outputs": [],
   "source": []
  },
  {
   "cell_type": "markdown",
   "id": "1d4b76b6-c166-4b5b-88d9-32b222856f41",
   "metadata": {},
   "source": [
    "redis存储 【AP】\n",
    "\n",
    "- 主从切换数据丢失\n",
    "- 部分锁失效\n",
    "\n",
    "etcd 【CP】\n",
    "- 多副本存储，数据不丢失\n",
    "- 选主过程不可用\n"
   ]
  },
  {
   "cell_type": "markdown",
   "id": "d15ed72f-99b8-4c9e-9b6d-df7a78ecff20",
   "metadata": {},
   "source": []
  },
  {
   "cell_type": "markdown",
   "id": "108890b9-4ca5-4e8f-adc3-b11f587784f6",
   "metadata": {},
   "source": [
    "![alt text](分布式07.png \"Title\")"
   ]
  },
  {
   "cell_type": "markdown",
   "id": "1574b9d5-e8c4-444e-aec8-dc247f494919",
   "metadata": {},
   "source": [
    "![alt text](分布式08.png \"Title\")"
   ]
  },
  {
   "cell_type": "code",
   "execution_count": null,
   "id": "57d310db-4e74-412f-bd55-be01b77f327c",
   "metadata": {},
   "outputs": [],
   "source": [
    "谁持有锁，是否可以续租，对锁的清理，完全交由业务，误操作风险很大，所以CAS的机制尤为重要！！！"
   ]
  },
  {
   "cell_type": "code",
   "execution_count": null,
   "id": "0d897d4f-39e2-4316-b284-c72971fa64f8",
   "metadata": {},
   "outputs": [],
   "source": [
    "# 任期+编号"
   ]
  },
  {
   "cell_type": "markdown",
   "id": "752daaeb-9026-4c19-a421-ad3632c210e4",
   "metadata": {},
   "source": [
    "ZooKeeper是一个分布式的，开放源码的分布式应用程序协调服务，是Google的Chubby一个开源的实现，是Hadoop和Hbase的重要组件。它是一个为分布式应用提供一致性服务的软件，提供的功能包括：配置维护、域名服务、分布式同步、组服务等。"
   ]
  },
  {
   "cell_type": "code",
   "execution_count": null,
   "id": "7e1e462a-bc40-45ce-8658-708cacf736d0",
   "metadata": {},
   "outputs": [],
   "source": []
  },
  {
   "cell_type": "code",
   "execution_count": null,
   "id": "00fcc2d7-9ce1-4432-bb18-888eb7536f6d",
   "metadata": {},
   "outputs": [],
   "source": []
  },
  {
   "cell_type": "code",
   "execution_count": null,
   "id": "8df3c7c3-e145-434a-9bd7-d9b35c5b17e2",
   "metadata": {},
   "outputs": [],
   "source": []
  }
 ],
 "metadata": {
  "kernelspec": {
   "display_name": "Python 3 (ipykernel)",
   "language": "python",
   "name": "python3"
  },
  "language_info": {
   "codemirror_mode": {
    "name": "ipython",
    "version": 3
   },
   "file_extension": ".py",
   "mimetype": "text/x-python",
   "name": "python",
   "nbconvert_exporter": "python",
   "pygments_lexer": "ipython3",
   "version": "3.8.7"
  }
 },
 "nbformat": 4,
 "nbformat_minor": 5
}

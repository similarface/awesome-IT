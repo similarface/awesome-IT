{
 "cells": [
  {
   "cell_type": "code",
   "execution_count": 5,
   "id": "faa9f892",
   "metadata": {},
   "outputs": [],
   "source": [
    "def target():\n",
    "    print(\"I am target func\")"
   ]
  },
  {
   "cell_type": "code",
   "execution_count": 6,
   "id": "c3202957",
   "metadata": {},
   "outputs": [],
   "source": [
    "def deco(func):\n",
    "    def inner():\n",
    "        print(\"Go inner\")\n",
    "    return inner"
   ]
  },
  {
   "cell_type": "code",
   "execution_count": 7,
   "id": "fd069c37",
   "metadata": {},
   "outputs": [],
   "source": [
    "@deco\n",
    "def target2():\n",
    "    print(\"I am target2 func\")"
   ]
  },
  {
   "cell_type": "code",
   "execution_count": 8,
   "id": "9ac2b868",
   "metadata": {},
   "outputs": [
    {
     "name": "stdout",
     "output_type": "stream",
     "text": [
      "I am target func\n"
     ]
    }
   ],
   "source": [
    "target()"
   ]
  },
  {
   "cell_type": "code",
   "execution_count": 9,
   "id": "12377bdf",
   "metadata": {},
   "outputs": [
    {
     "name": "stdout",
     "output_type": "stream",
     "text": [
      "Go inner\n"
     ]
    }
   ],
   "source": [
    "target2()"
   ]
  },
  {
   "cell_type": "code",
   "execution_count": 10,
   "id": "a4eed1f2",
   "metadata": {},
   "outputs": [
    {
     "data": {
      "text/plain": [
       "<function __main__.deco.<locals>.inner()>"
      ]
     },
     "execution_count": 10,
     "metadata": {},
     "output_type": "execute_result"
    }
   ],
   "source": [
    "# 函数变为了inner 不是 target2\n",
    "target2"
   ]
  },
  {
   "cell_type": "markdown",
   "id": "0e224a87",
   "metadata": {},
   "source": [
    "### 促销案例"
   ]
  },
  {
   "cell_type": "markdown",
   "id": "ead67555",
   "metadata": {},
   "source": [
    "> 促销方案一"
   ]
  },
  {
   "cell_type": "code",
   "execution_count": 79,
   "id": "44dbaa04",
   "metadata": {},
   "outputs": [],
   "source": [
    "from abc import ABC, abstractmethod\n",
    "from collections import namedtuple\n",
    "\n",
    "Customer = namedtuple(\"Customer\", \"name fidelity\")\n",
    "\n",
    "\n",
    "class LineItem:\n",
    "    def __init__(self, product, quantity, price):\n",
    "        self.product = product\n",
    "        self.quantity = quantity\n",
    "        self.price = price\n",
    "\n",
    "    def total(self):\n",
    "        return self.price * self.quantity\n",
    "\n",
    "\n",
    "class Order:\n",
    "    def __init__(self, customer, cart, promotion=None):\n",
    "        self.customer = customer\n",
    "        self.cart = cart\n",
    "        self.promotion = promotion\n",
    "\n",
    "    # 总价\n",
    "    def total(self):\n",
    "        if not hasattr(self, '__total'):\n",
    "            self.__total = sum(item.total() for item in self.cart)\n",
    "        return self.__total\n",
    "\n",
    "    # 实际价格\n",
    "    def due(self):\n",
    "        if self.promotion is None:\n",
    "            discount = 0\n",
    "        else:\n",
    "            discount = self.promotion.discount(self)\n",
    "        return self.total() - discount\n",
    "\n",
    "    def __repr__(self):\n",
    "        return f\"Customer:{self.customer} <Order> {self.total()} que: {self.due()}\"\n",
    "\n",
    "\n",
    "class Promotion(ABC):\n",
    "    @abstractmethod\n",
    "    def discount(self, order):\n",
    "        \"\"\"返回折扣\"\"\"\n",
    "\n",
    "\n",
    "class FidelityPromo(Promotion):\n",
    "    def discount(self, order):\n",
    "        return order.total() * .05 if order.customer.fidelity >= 1000 else 0\n",
    "\n",
    "\n",
    "class BulkItemPromo(Promotion):\n",
    "    def discount(self, order):\n",
    "        discount = 0\n",
    "        for item in order.cart:\n",
    "            if item.quantity >= 20:\n",
    "                discount += item.total() * .1\n",
    "        return discount\n",
    "\n",
    "\n",
    "class LargeOrderPromo(Promotion):\n",
    "    def discount(self, order):\n",
    "        discount_items = {_.product for _ in order.cart}\n",
    "        return order.total() * .07 if len(discount_items) >= 10 else 0\n",
    "\n"
   ]
  },
  {
   "cell_type": "code",
   "execution_count": 87,
   "id": "3c99fba9",
   "metadata": {},
   "outputs": [
    {
     "name": "stdout",
     "output_type": "stream",
     "text": [
      "Customer:Customer(name='张三', fidelity=0) <Order> 42.0 que: 42.0\n",
      "Customer:Customer(name='李四', fidelity=1100) <Order> 42.0 que: 39.9\n",
      "---------------------------->\n",
      "Customer:Customer(name='张三', fidelity=0) <Order> 30.0 que: 28.5\n",
      "Customer:Customer(name='李四', fidelity=1100) <Order> 30.0 que: 28.5\n",
      "---------------------------->\n",
      "Customer:Customer(name='张三', fidelity=0) <Order> 10 que: 9.3\n",
      "---------------------------->\n"
     ]
    }
   ],
   "source": [
    "zs = Customer(\"张三\",0)\n",
    "ls = Customer(\"李四\",1100)\n",
    "cart=[LineItem(\"🍌\",4,.5),LineItem(\"🍎\",10,1.5),LineItem(\"🍉\",5,5),]\n",
    "print(Order(zs,cart,FidelityPromo()))\n",
    "print(Order(ls,cart,FidelityPromo()))\n",
    "print(\"---------------------------->\")\n",
    "bulk_cart = [LineItem(\"🍌\",30,.5),LineItem(\"🍎\",10,1.5)]\n",
    "print(Order(zs,bulk_cart,BulkItemPromo()))\n",
    "print(Order(ls,bulk_cart,BulkItemPromo()))\n",
    "print(\"---------------------------->\")\n",
    "long_order = [LineItem(str(item),1,1) for item in range(10)]\n",
    "print(Order(zs,long_order,LargeOrderPromo()))\n",
    "print(\"---------------------------->\")"
   ]
  },
  {
   "cell_type": "markdown",
   "id": "8bd6f973",
   "metadata": {},
   "source": [
    "> 促销方案二"
   ]
  },
  {
   "cell_type": "code",
   "execution_count": 95,
   "id": "ff03a99a",
   "metadata": {},
   "outputs": [
    {
     "name": "stdout",
     "output_type": "stream",
     "text": [
      "Customer:Customer(name='张三', fidelity=0) <Order> 42.0 que: 42.0\n",
      "Customer:Customer(name='李四', fidelity=1100) <Order> 42.0 que: 39.9\n",
      "---------------------------->\n",
      "Customer:Customer(name='张三', fidelity=0) <Order> 30.0 que: 28.5\n",
      "Customer:Customer(name='李四', fidelity=1100) <Order> 30.0 que: 28.5\n",
      "---------------------------->\n",
      "Customer:Customer(name='张三', fidelity=0) <Order> 10 que: 9.3\n",
      "---------------------------->\n",
      "Customer:Customer(name='张三', fidelity=0) <Order> 10 que: 9.3\n",
      "Customer:Customer(name='张三', fidelity=0) <Order> 42.0 que: 42.0\n"
     ]
    }
   ],
   "source": [
    "class Order:\n",
    "    def __init__(self, customer, cart, promotion=None):\n",
    "        self.customer = customer\n",
    "        self.cart = cart\n",
    "        self.promotion = promotion\n",
    "\n",
    "    # 总价\n",
    "    def total(self):\n",
    "        if not hasattr(self, '__total'):\n",
    "            self.__total = sum(item.total() for item in self.cart)\n",
    "        return self.__total\n",
    "\n",
    "    # 实际价格\n",
    "    def due(self):\n",
    "        if self.promotion is None:\n",
    "            discount = 0\n",
    "        else:\n",
    "            discount = self.promotion(self)\n",
    "        return self.total() - discount\n",
    "\n",
    "    def __repr__(self):\n",
    "        return f\"Customer:{self.customer} <Order> {self.total()} que: {self.due()}\"\n",
    "\n",
    "\n",
    "def fidelity_promo(order: Order):\n",
    "    return order.total() * .05 if order.customer.fidelity >= 1000 else 0\n",
    "\n",
    "\n",
    "def bulk_item_promo(order: Order):\n",
    "    discount = 0\n",
    "    for item in order.cart:\n",
    "        if item.quantity >= 20:\n",
    "            discount += item.total() * .1\n",
    "    return discount\n",
    "\n",
    "\n",
    "def large_order_promo(order: Order):\n",
    "    discount_items = {_.product for _ in order.cart}\n",
    "    return order.total() * .07 if len(discount_items) >= 10 else 0\n",
    "\n",
    "promos = [fidelity_promo, bulk_item_promo, large_order_promo]\n",
    "\n",
    "\n",
    "def best_promo(order):\n",
    "    return max([_(order) for _ in promos])\n",
    "\n",
    "\n",
    "zs = Customer(\"张三\", 0)\n",
    "ls = Customer(\"李四\", 1100)\n",
    "cart = [LineItem(\"🍌\", 4, .5), LineItem(\"🍎\", 10, 1.5), LineItem(\"🍉\", 5, 5), ]\n",
    "print(Order(zs, cart, fidelity_promo))\n",
    "print(Order(ls, cart, fidelity_promo))\n",
    "print(\"---------------------------->\")\n",
    "bulk_cart = [LineItem(\"🍌\", 30, .5), LineItem(\"🍎\", 10, 1.5)]\n",
    "print(Order(zs, bulk_cart, bulk_item_promo))\n",
    "print(Order(ls, bulk_cart, bulk_item_promo))\n",
    "print(\"---------------------------->\")\n",
    "long_order = [LineItem(str(item), 1, 1) for item in range(10)]\n",
    "print(Order(zs, long_order, large_order_promo))\n",
    "print(\"---------------------------->\")\n",
    "\n",
    "print(Order(zs, long_order, best_promo))\n",
    "print(Order(zs, cart, best_promo))"
   ]
  },
  {
   "cell_type": "markdown",
   "id": "1fea4cc9",
   "metadata": {},
   "source": [
    "> 促销方案三"
   ]
  },
  {
   "cell_type": "code",
   "execution_count": 99,
   "id": "e8df1bdb",
   "metadata": {},
   "outputs": [
    {
     "name": "stdout",
     "output_type": "stream",
     "text": [
      "Customer:Customer(name='张三', fidelity=0) <Order> 10 que: 9.3\n",
      "Customer:Customer(name='张三', fidelity=0) <Order> 42.0 que: 42.0\n"
     ]
    }
   ],
   "source": [
    "promos=[]\n",
    "\n",
    "def promotion(promo_func):\n",
    "    promos.append(promo_func)\n",
    "    return promo_func\n",
    "\n",
    "@promotion\n",
    "def fidelity_promo(order: Order):\n",
    "    return order.total() * .05 if order.customer.fidelity >= 1000 else 0\n",
    "\n",
    "@promotion\n",
    "def bulk_item_promo(order: Order):\n",
    "    discount = 0\n",
    "    for item in order.cart:\n",
    "        if item.quantity >= 20:\n",
    "            discount += item.total() * .1\n",
    "    return discount\n",
    "\n",
    "@promotion\n",
    "def large_order_promo(order: Order):\n",
    "    discount_items = {_.product for _ in order.cart}\n",
    "    return order.total() * .07 if len(discount_items) >= 10 else 0\n",
    "\n",
    "def best_promo(order):\n",
    "    return max(promo(order) for promo in promos)\n",
    "\n",
    "zs = Customer(\"张三\", 0)\n",
    "ls = Customer(\"李四\", 1100)\n",
    "cart = [LineItem(\"🍌\", 4, .5), LineItem(\"🍎\", 10, 1.5), LineItem(\"🍉\", 5, 5), ]\n",
    "long_order = [LineItem(str(item), 1, 1) for item in range(10)]\n",
    "print(Order(zs, long_order, best_promo))\n",
    "print(Order(zs, cart, best_promo))"
   ]
  },
  {
   "cell_type": "code",
   "execution_count": null,
   "id": "a304bf7a",
   "metadata": {},
   "outputs": [],
   "source": []
  }
 ],
 "metadata": {
  "kernelspec": {
   "display_name": "Python 3 (ipykernel)",
   "language": "python",
   "name": "python3"
  },
  "language_info": {
   "codemirror_mode": {
    "name": "ipython",
    "version": 3
   },
   "file_extension": ".py",
   "mimetype": "text/x-python",
   "name": "python",
   "nbconvert_exporter": "python",
   "pygments_lexer": "ipython3",
   "version": "3.8.7"
  }
 },
 "nbformat": 4,
 "nbformat_minor": 5
}
